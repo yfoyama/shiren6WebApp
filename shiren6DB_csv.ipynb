{
 "cells": [
  {
   "cell_type": "code",
   "execution_count": 5,
   "metadata": {},
   "outputs": [],
   "source": [
    "import pandas as pd\n",
    "import streamlit as st\n",
    "\n",
    "st.title('シレン６ アイテム価格判別')\n",
    "\n",
    "# GitHub上のCSVファイルのURL\n",
    "github_csv_url = 'https://raw.githubusercontent.com/yfoyama/shiren6WebApp/60f249cc34633148352227c56aa03d9c5876b8c1/itemList.csv'\n",
    "\n",
    "# CSVファイルを読み込む\n",
    "df = pd.read_csv(github_csv_url,encoding='shift-jis')"
   ]
  },
  {
   "cell_type": "code",
   "execution_count": null,
   "metadata": {},
   "outputs": [],
   "source": [
    "\n",
    "# fullname列を作成（correctionValueを整数で表示）\n",
    "df['fullname'] = df.apply(lambda x: f\"{x['name']}({x['status']})\" + (f\"[{int(x['correctionValue'])}]\" if pd.notnull(x['correctionValue']) else ''), axis=1)\n",
    "\n",
    "# サイドバー\n",
    "with st.sidebar:\n",
    "    # 入力フォーム\n",
    "    price_input = st.number_input('価格を入力してください（10~10000）', min_value=10, max_value=10000, step=10,value=100)\n",
    "    price_type = st.radio('価格タイプを選択してください', ('売値', '買値'))\n",
    "    kind_selection = st.radio('種類を選択してください', ('すべて', '腕輪', '壺', '巻物', '草種', '杖'))\n",
    "\n",
    "    # 検索ボタン\n",
    "    search_clicked = st.button('検索')\n",
    "\n",
    "# 検索結果の処理と表示\n",
    "if search_clicked:\n",
    "    if price_type == '売値':\n",
    "        result_df = df[df['sellingPrice'] == price_input]\n",
    "    else:  # 買値の場合\n",
    "        result_df = df[df['buyingPrice'] == price_input]\n",
    "    \n",
    "    # 種類でフィルタリング\n",
    "    if kind_selection != 'すべて':\n",
    "        result_df = result_df[result_df['kind'] == kind_selection]\n",
    "    \n",
    "    # 結果をkind列でソート\n",
    "    result_df = result_df.sort_values(by='kind')\n",
    "    \n",
    "    # 検索結果の表示\n",
    "    if not result_df.empty:\n",
    "        # st.write('検索結果:')\n",
    "        for fullname in result_df['fullname']:\n",
    "            # 呪いや祝福の項目に色を付ける\n",
    "            if '(呪い)' in fullname:\n",
    "                st.markdown(f\"<span style='color: red;'>{fullname}</span>\", unsafe_allow_html=True)\n",
    "            elif '(祝福)' in fullname:\n",
    "                st.markdown(f\"<span style='color: blue;'>{fullname}</span>\", unsafe_allow_html=True)\n",
    "            else:\n",
    "                st.write(fullname)\n",
    "    else:\n",
    "        st.write('該当するデータがありません。')\n"
   ]
  }
 ],
 "metadata": {
  "kernelspec": {
   "display_name": "streamlit",
   "language": "python",
   "name": "python3"
  },
  "language_info": {
   "codemirror_mode": {
    "name": "ipython",
    "version": 3
   },
   "file_extension": ".py",
   "mimetype": "text/x-python",
   "name": "python",
   "nbconvert_exporter": "python",
   "pygments_lexer": "ipython3",
   "version": "3.10.13"
  }
 },
 "nbformat": 4,
 "nbformat_minor": 2
}
