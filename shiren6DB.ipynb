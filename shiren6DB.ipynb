{
 "cells": [
  {
   "cell_type": "code",
   "execution_count": 8,
   "metadata": {},
   "outputs": [
    {
     "name": "stdout",
     "output_type": "stream",
     "text": [
      "     kind     name  buyingPrice  sellingPrice status  correctionValue  \\\n",
      "0      巻物    ぬれた巻物          200            80     通常              NaN   \n",
      "1      巻物    混乱の巻物          300           120     通常              NaN   \n",
      "2      巻物  バクスイの巻物          300           120     通常              NaN   \n",
      "3      巻物  ゾワゾワの巻物          300           120     通常              NaN   \n",
      "4      巻物  真空斬りの巻物          300           120     通常              NaN   \n",
      "...   ...      ...          ...           ...    ...              ...   \n",
      "1282    壺   ビックリの壺         2349           939     呪い              7.0   \n",
      "1283    壺     笑いの壺         2349           939     呪い              7.0   \n",
      "1284    壺     合成の壺         5829          2331     呪い              7.0   \n",
      "1285    壺     強化の壺         9309          3723     呪い              7.0   \n",
      "1286    壺     弱化の壺         9309          3723     呪い              7.0   \n",
      "\n",
      "      increment  \n",
      "0           NaN  \n",
      "1           NaN  \n",
      "2           NaN  \n",
      "3           NaN  \n",
      "4           NaN  \n",
      "...         ...  \n",
      "1282      100.0  \n",
      "1283      100.0  \n",
      "1284      100.0  \n",
      "1285      100.0  \n",
      "1286      100.0  \n",
      "\n",
      "[1287 rows x 7 columns]\n"
     ]
    }
   ],
   "source": [
    "import pandas as pd\n",
    "\n",
    "\n",
    "# Excelファイルのパス\n",
    "file_path = r'C:\\Users\\yyy_f\\OneDrive\\デスクトップ\\sandbox\\shiren6WebApp\\itemList.xlsx'\n",
    "\n",
    "# Excelファイルを読み込む\n",
    "df = pd.read_excel(file_path)\n",
    "\n",
    "# 読み込んだデータを表示\n",
    "print(df)\n"
   ]
  },
  {
   "cell_type": "code",
   "execution_count": 9,
   "metadata": {},
   "outputs": [
    {
     "name": "stdout",
     "output_type": "stream",
     "text": [
      "     kind     name  buyingPrice  sellingPrice status  correctionValue  \\\n",
      "0      巻物    ぬれた巻物          200            80     通常              NaN   \n",
      "1      巻物    混乱の巻物          300           120     通常              NaN   \n",
      "2      巻物  バクスイの巻物          300           120     通常              NaN   \n",
      "3      巻物  ゾワゾワの巻物          300           120     通常              NaN   \n",
      "4      巻物  真空斬りの巻物          300           120     通常              NaN   \n",
      "...   ...      ...          ...           ...    ...              ...   \n",
      "1282    壺   ビックリの壺         2349           939     呪い              7.0   \n",
      "1283    壺     笑いの壺         2349           939     呪い              7.0   \n",
      "1284    壺     合成の壺         5829          2331     呪い              7.0   \n",
      "1285    壺     強化の壺         9309          3723     呪い              7.0   \n",
      "1286    壺     弱化の壺         9309          3723     呪い              7.0   \n",
      "\n",
      "      increment       fullname  \n",
      "0           NaN      ぬれた巻物(通常)  \n",
      "1           NaN      混乱の巻物(通常)  \n",
      "2           NaN    バクスイの巻物(通常)  \n",
      "3           NaN    ゾワゾワの巻物(通常)  \n",
      "4           NaN    真空斬りの巻物(通常)  \n",
      "...         ...            ...  \n",
      "1282      100.0  ビックリの壺(呪い)[7]  \n",
      "1283      100.0    笑いの壺(呪い)[7]  \n",
      "1284      100.0    合成の壺(呪い)[7]  \n",
      "1285      100.0    強化の壺(呪い)[7]  \n",
      "1286      100.0    弱化の壺(呪い)[7]  \n",
      "\n",
      "[1287 rows x 8 columns]\n"
     ]
    }
   ],
   "source": [
    "# fullname列を作成（correctionValueを整数で表示）\n",
    "df['fullname'] = df.apply(lambda x: f\"{x['name']}({x['status']})\" + (f\"[{int(x['correctionValue'])}]\" if pd.notnull(x['correctionValue']) else ''), axis=1)\n",
    "\n",
    "print(df)"
   ]
  },
  {
   "cell_type": "code",
   "execution_count": null,
   "metadata": {},
   "outputs": [],
   "source": []
  },
  {
   "cell_type": "code",
   "execution_count": null,
   "metadata": {},
   "outputs": [],
   "source": []
  }
 ],
 "metadata": {
  "kernelspec": {
   "display_name": "streamlit",
   "language": "python",
   "name": "python3"
  },
  "language_info": {
   "codemirror_mode": {
    "name": "ipython",
    "version": 3
   },
   "file_extension": ".py",
   "mimetype": "text/x-python",
   "name": "python",
   "nbconvert_exporter": "python",
   "pygments_lexer": "ipython3",
   "version": "3.10.13"
  }
 },
 "nbformat": 4,
 "nbformat_minor": 2
}
